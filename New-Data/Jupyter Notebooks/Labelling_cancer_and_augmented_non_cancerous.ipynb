{
 "cells": [
  {
   "cell_type": "code",
   "execution_count": null,
   "metadata": {},
   "outputs": [],
   "source": [
    "import os\n",
    "import pandas as pd\n",
    "\n",
    "#  folders containing images\n",
    "cancer_folder = r\"C:\\Users\\admin\\Documents\\MehtA+ Projects\\Smile-Savior\\New-Data\\OC_Dataset_kaggle_new\\CANCER\"\n",
    "non_cancer_folder = r\"C:\\Users\\admin\\Documents\\MehtA+ Projects\\Smile-Savior\\New-Data\\OC_Dataset_kaggle_new\\NON_CANCER\"\n",
    "augmented_non_cancer_folder = r\"C:\\Users\\admin\\Documents\\MehtA+ Projects\\Smile-Savior\\New-Data\\OC_Dataset_kaggle_new\\Augmented_non_cancer\"\n",
    "\n",
    "# Function to get image paths and labels\n",
    "def get_image_paths_and_labels(folder, label):\n",
    "    images = os.listdir(folder)\n",
    "    image_paths = [os.path.join(folder, img) for img in images]\n",
    "    labels = [label] * len(images)\n",
    "    return image_paths, labels\n",
    "\n",
    "# Get image paths and labels for cancer and non-cancer images\n",
    "cancer_images, cancer_labels = get_image_paths_and_labels(cancer_folder, 1)\n",
    "non_cancer_images, non_cancer_labels = get_image_paths_and_labels(non_cancer_folder, 0)\n",
    "augmented_non_cancer_images, augmented_non_cancer_labels = get_image_paths_and_labels(augmented_non_cancer_folder, 0)\n",
    "\n",
    "# Combine the lists\n",
    "all_images = cancer_images + non_cancer_images + augmented_non_cancer_images\n",
    "all_labels = cancer_labels + non_cancer_labels + augmented_non_cancer_labels\n",
    "\n",
    "# Create a DataFrame and save it as a CSV file\n",
    "df = pd.DataFrame({'image_path': all_images, 'label': all_labels})\n",
    "df.to_csv('labeled_images.csv', index=False)\n",
    "\n",
    "print(\"Data labeling completed successfully. CSV file saved as 'labeled_images.csv'.\")\n"
   ]
  }
 ],
 "metadata": {
  "language_info": {
   "name": "python"
  }
 },
 "nbformat": 4,
 "nbformat_minor": 2
}
