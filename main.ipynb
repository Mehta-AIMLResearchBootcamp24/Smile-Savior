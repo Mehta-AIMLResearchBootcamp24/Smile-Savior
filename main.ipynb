{
 "cells": [
  {
   "cell_type": "code",
   "execution_count": 4,
   "metadata": {},
   "outputs": [],
   "source": [
    "import os\n",
    "import shutil\n",
    "import stat\n",
    "from PIL import Image"
   ]
  },
  {
   "cell_type": "code",
   "execution_count": 5,
   "metadata": {},
   "outputs": [],
   "source": [
    "def convert_png(directory, label, target):\n",
    "    for i, image in enumerate(os.listdir(directory)):\n",
    "        f = os.path.join(directory, image)\n",
    "        if os.path.isfile(f):\n",
    "            image = Image.open(f)\n",
    "            image.save(f'data/{i}{label}.{target}')\n",
    "            \n",
    "    os.system('rmdir /S /Q \"{}\"'.format(directory))"
   ]
  },
  {
   "cell_type": "code",
   "execution_count": 6,
   "metadata": {},
   "outputs": [],
   "source": [
    "\"\"\"\n",
    "    DO NOT RUN\n",
    "\"\"\"\n",
    "\n",
    "directory_1 = 'data/cancer'\n",
    "directory_2 = 'data/non-cancer'\n",
    "target = '.png'\n",
    "\n",
    "convert_png(directory_1, 1, target)\n",
    "convert_png(directory_2, 0, target)"
   ]
  },
  {
   "cell_type": "code",
   "execution_count": null,
   "metadata": {},
   "outputs": [],
   "source": []
  }
 ],
 "metadata": {
  "kernelspec": {
   "display_name": "Python 3",
   "language": "python",
   "name": "python3"
  },
  "language_info": {
   "codemirror_mode": {
    "name": "ipython",
    "version": 3
   },
   "file_extension": ".py",
   "mimetype": "text/x-python",
   "name": "python",
   "nbconvert_exporter": "python",
   "pygments_lexer": "ipython3",
   "version": "3.12.4"
  }
 },
 "nbformat": 4,
 "nbformat_minor": 2
}
