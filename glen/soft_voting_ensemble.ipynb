{
 "cells": [
  {
   "cell_type": "code",
   "execution_count": 9,
   "metadata": {},
   "outputs": [],
   "source": [
    "import os\n",
    "import torch\n",
    "import numpy as np\n",
    "from PIL import Image\n",
    "from torchvision import models, transforms\n",
    "from torchvision.datasets import ImageFolder\n",
    "from sklearn.model_selection import train_test_split as tts\n",
    "from transformers import ViTForImageClassification, ViTFeatureExtractor, ViTConfig\n",
    "import torch.nn.functional as F"
   ]
  },
  {
   "cell_type": "code",
   "execution_count": 10,
   "metadata": {},
   "outputs": [
    {
     "data": {
      "text/plain": [
       "<All keys matched successfully>"
      ]
     },
     "execution_count": 10,
     "metadata": {},
     "output_type": "execute_result"
    }
   ],
   "source": [
    "resnet_model = models.resnet18(pretrained=False)\n",
    "resnet_model.fc = torch.nn.Linear(resnet_model.fc.in_features, 2)    # Adjust the final layer for binary classification\n",
    "resnet_model.load_state_dict(torch.load('../ammad/best_model.pth', map_location=torch.device('cpu')), strict=False)\n",
    "\n",
    "vit_model = ViTConfig(num_labels=2)  # Binary classification\n",
    "vit_model = ViTForImageClassification(vit_model)\n",
    "vit_model.load_state_dict(torch.load(os.path.join(\"vision-transformer-models\", \"model9.pth\"), map_location=torch.device('cpu')))"
   ]
  },
  {
   "cell_type": "code",
   "execution_count": 11,
   "metadata": {},
   "outputs": [],
   "source": [
    "transform = transforms.Compose([\n",
    "    transforms.Resize((224, 224)),\n",
    "    transforms.ToTensor(),\n",
    "    transforms.Normalize(mean=[0.485, 0.456, 0.406], std=[0.229, 0.224, 0.225]),\n",
    "])\n",
    "\n",
    "dataset = ImageFolder('data/original-dataset', transform=transform)\n",
    "\n",
    "train_dataset, test_dataset = tts(dataset, test_size=0.2)"
   ]
  },
  {
   "cell_type": "code",
   "execution_count": 12,
   "metadata": {},
   "outputs": [
    {
     "data": {
      "text/plain": [
       "(752, 188)"
      ]
     },
     "execution_count": 12,
     "metadata": {},
     "output_type": "execute_result"
    }
   ],
   "source": [
    "len(train_dataset), len(test_dataset)"
   ]
  },
  {
   "cell_type": "code",
   "execution_count": 13,
   "metadata": {},
   "outputs": [
    {
     "data": {
      "text/plain": [
       "{'CANCER': 0, 'NON_CANCER': 1}"
      ]
     },
     "execution_count": 13,
     "metadata": {},
     "output_type": "execute_result"
    }
   ],
   "source": [
    "dataset.class_to_idx"
   ]
  },
  {
   "cell_type": "code",
   "execution_count": 14,
   "metadata": {},
   "outputs": [],
   "source": [
    "folder_path = \"data/NON_CANCER(Augmented)\"\n",
    "\n",
    "image_files = [f for f in os.listdir(folder_path)]\n",
    "\n",
    "augmented_images = []\n",
    "for image_file in image_files:\n",
    "    img_path = os.path.join(folder_path, image_file)\n",
    "    img = Image.open(img_path)\n",
    "    augmented_images.append((transform(img), 1))\n",
    "    \n",
    "train_dataset += augmented_images"
   ]
  },
  {
   "cell_type": "code",
   "execution_count": 18,
   "metadata": {},
   "outputs": [],
   "source": [
    "def soft_voting(data, models):\n",
    "    count = 0\n",
    "    labels = []\n",
    "    preds = []\n",
    "    for image in data:\n",
    "        with torch.no_grad():\n",
    "            resnet_output = models[0](image[0].unsqueeze(0))\n",
    "            vision_transformer_output = models[1](image[0].unsqueeze(0)).logits\n",
    "            resnet_probs = F.softmax(resnet_output, dim=1).numpy()\n",
    "            vision_transformer_probs = F.softmax(vision_transformer_output, dim=1).numpy()\n",
    "            \n",
    "            # Averaging probabilities\n",
    "            avg_probs = (resnet_probs + vision_transformer_probs) / 2\n",
    "            final_pred = np.argmax(avg_probs, axis=1)\n",
    "            \n",
    "            if image[1] == final_pred:\n",
    "                count += 1\n",
    "                \n",
    "            labels.append(image[1])\n",
    "            preds.append(final_pred)\n",
    "            \n",
    "                \n",
    "    return count / len(data), labels, preds"
   ]
  },
  {
   "cell_type": "code",
   "execution_count": 19,
   "metadata": {},
   "outputs": [],
   "source": [
    "accuracy, labels, preds = soft_voting(test_dataset, [resnet_model, vit_model])"
   ]
  },
  {
   "cell_type": "code",
   "execution_count": 20,
   "metadata": {},
   "outputs": [],
   "source": [
    "from sklearn.metrics import f1_score\n",
    "f1 = f1_score(labels, preds, average='binary')"
   ]
  },
  {
   "cell_type": "code",
   "execution_count": 21,
   "metadata": {},
   "outputs": [
    {
     "name": "stdout",
     "output_type": "stream",
     "text": [
      "0.9840425531914894 0.9837837837837838\n"
     ]
    }
   ],
   "source": [
    "print(accuracy, f1)"
   ]
  },
  {
   "cell_type": "code",
   "execution_count": null,
   "metadata": {},
   "outputs": [],
   "source": []
  }
 ],
 "metadata": {
  "kernelspec": {
   "display_name": "Python 3",
   "language": "python",
   "name": "python3"
  },
  "language_info": {
   "codemirror_mode": {
    "name": "ipython",
    "version": 3
   },
   "file_extension": ".py",
   "mimetype": "text/x-python",
   "name": "python",
   "nbconvert_exporter": "python",
   "pygments_lexer": "ipython3",
   "version": "3.12.4"
  }
 },
 "nbformat": 4,
 "nbformat_minor": 2
}
